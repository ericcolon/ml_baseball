{
 "cells": [
  {
   "cell_type": "markdown",
   "metadata": {},
   "source": [
    "\n",
    "# <font color='blue'>Part 1: Setting Up </font> "
   ]
  },
  {
   "cell_type": "markdown",
   "metadata": {},
   "source": [
    "First, let's make sure this notebook works well in both python 2 and 3, import a few common modules, ensure MatplotLib plots figures inline and prepare a function to save the figures:"
   ]
  },
  {
   "cell_type": "code",
   "execution_count": null,
   "metadata": {
    "collapsed": true
   },
   "outputs": [],
   "source": [
    "# To support both python 2 and python 3\n",
    "from __future__ import division, print_function, unicode_literals\n",
    "\n",
    "# Common imports\n",
    "import numpy as np\n",
    "import os\n",
    "\n",
    "\n",
    "# to make this notebook's output stable across runs\n",
    "np.random.seed(42)\n",
    "\n",
    "# To plot pretty figures\n",
    "%matplotlib inline\n",
    "import matplotlib\n",
    "import matplotlib.pyplot as plt\n",
    "plt.rcParams['axes.labelsize'] = 14\n",
    "plt.rcParams['xtick.labelsize'] = 12\n",
    "plt.rcParams['ytick.labelsize'] = 12\n",
    "\n",
    "# Where to save the figures\n",
    "PROJECT_ROOT_DIR = \".\"\n",
    "CHAPTER_ID = \"end_to_end_project\"\n",
    "IMAGES_PATH = os.path.join(PROJECT_ROOT_DIR, \"images\", CHAPTER_ID)\n",
    "\n",
    "def save_fig(fig_id, tight_layout=True, fig_extension=\"png\", resolution=300):\n",
    "    path = os.path.join(IMAGES_PATH, fig_id + \".\" + fig_extension)\n",
    "    print(\"Saving figure\", fig_id)\n",
    "    if tight_layout:\n",
    "        plt.tight_layout()\n",
    "    plt.savefig(path, format=fig_extension, dpi=resolution)"
   ]
  },
  {
   "cell_type": "markdown",
   "metadata": {},
   "source": [
    "\n",
    "# <font color='blue'>Part 2: Creating Train and Test Sets </font> "
   ]
  },
  {
   "cell_type": "markdown",
   "metadata": {},
   "source": [
    "### 2.1: Creating Data-Fetching Function"
   ]
  },
  {
   "cell_type": "code",
   "execution_count": null,
   "metadata": {
    "collapsed": true
   },
   "outputs": [],
   "source": [
    "import os\n",
    "import tarfile\n",
    "from six.moves import urllib\n",
    "\n",
    "DOWNLOAD_ROOT = \"https://raw.githubusercontent.com/rnz269/ml_baseball/master/understanding_war/excel_files/\"\n",
    "BASEBALL_PATH = os.path.join(\"datasets\", \"baseball\")\n",
    "# BASEBALL_URL = DOWNLOAD_ROOT + \"datasets/baseball/\"\n",
    "\n",
    "# Following function automates the data fetching process\n",
    "# Following function creates a datasets/housing directory, downloads the housing.tgz file, and from this extracts the housing.csv \n",
    "def fetch_baseball_data(data_url, baseball_path=BASEBALL_PATH):\n",
    "    # Allows me to use the fetch_baseball_data function on any dataset \"data_url\" in my Github library\n",
    "    # Now:\"https://github.com/rnz269/ml_baseball/blob/master/understanding_war/excel_files/\"data_url\"\n",
    "    baseball_url = DOWNLOAD_ROOT + data_url\n",
    "    # Following if function creates a local datasets/baseball directory if it doesn't already exist\n",
    "    if not os.path.isdir(baseball_path):\n",
    "        os.makedirs(baseball_path)\n",
    "    # following defines csv_path as datasets/baseball/catchers.csv\n",
    "    baseball_csv_path = os.path.join(baseball_path, data_url)\n",
    "    # Following copies network object \"https://raw.githubusercontent.com/rnz269/ml_baseball/master/understanding_war/excel_files/\"data_url\"\n",
    "    # and stores in local file baseball_csv_path\n",
    "    urllib.request.urlretrieve(baseball_url, baseball_csv_path)\n",
    " \n",
    "  "
   ]
  },
  {
   "cell_type": "code",
   "execution_count": null,
   "metadata": {},
   "outputs": [],
   "source": [
    "# This won't work if the file is open, as excel won't allow you to rewrite an open file\n",
    "fetch_baseball_data(\"catchers.csv\")"
   ]
  },
  {
   "cell_type": "code",
   "execution_count": null,
   "metadata": {},
   "outputs": [],
   "source": [
    "import pandas as pd\n",
    "\n",
    "def load_baseball_data(data_url, baseball_path=BASEBALL_PATH)\n",
    "csv_path = os.path.join(baseball_path, data_url)\n",
    "return pd.read_csv(csv_path)"
   ]
  },
  {
   "cell_type": "code",
   "execution_count": null,
   "metadata": {},
   "outputs": [],
   "source": [
    "baseball.head()"
   ]
  },
  {
   "cell_type": "code",
   "execution_count": null,
   "metadata": {
    "collapsed": true
   },
   "outputs": [],
   "source": []
  }
 ],
 "metadata": {
  "kernelspec": {
   "display_name": "Python 3",
   "language": "python",
   "name": "python3"
  },
  "language_info": {
   "codemirror_mode": {
    "name": "ipython",
    "version": 3
   },
   "file_extension": ".py",
   "mimetype": "text/x-python",
   "name": "python",
   "nbconvert_exporter": "python",
   "pygments_lexer": "ipython3",
   "version": "3.6.3"
  }
 },
 "nbformat": 4,
 "nbformat_minor": 2
}
