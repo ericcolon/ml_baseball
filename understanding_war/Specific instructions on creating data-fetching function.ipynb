{
 "cells": [
  {
   "cell_type": "code",
   "execution_count": null,
   "metadata": {
    "collapsed": true
   },
   "outputs": [],
   "source": [
    "import os\n",
    "import tarfile\n",
    "from six.moves import urllib\n",
    "import pandas as pd\n",
    "\n",
    "DOWNLOAD_ROOT = \"https://raw.githubusercontent.com/rnz269/ml_baseball/master/understanding_war/excel_files/\"\n",
    "DATA_FILE_PATH = os.path.join(\"datasets\", \"baseball\")\n",
    "\n",
    "# Following function automates the data fetching process\n",
    "# Following function creates a datasets/housing directory, downloads the housing.tgz file, and from this extracts the housing.csv \n",
    "def fetch_data(data_file_name, data_file_path=DATA_FILE_PATH):\n",
    "    # Allows me to use the fetch_baseball_data function on any dataset \"data_file_name\" in my Github library\n",
    "    # Now:\"https://github.com/rnz269/ml_baseball/blob/master/understanding_war/excel_files/\"data_file_name\"\n",
    "    data_absolute_url = DOWNLOAD_ROOT + data_file_name\n",
    "    # Following creates a local datasets/baseball directory if it doesn't already exist\n",
    "    if not os.path.isdir(data_file_path):\n",
    "        os.makedirs(data_file_path)\n",
    "    # following defines csv_path as datasets/baseball/\"data_file_name\"\n",
    "    data_csv_path = os.path.join(data_file_path, data_file_name)\n",
    "    # Following copies network object \"https://raw.githubusercontent.com/rnz269/ml_baseball/master/understanding_war/excel_files/\"data_url\"\n",
    "    # and stores in local file data_csv_path\n",
    "    urllib.request.urlretrieve(data_absolute_url, data_csv_path)\n",
    "    return pd.read_csv(data_csv_path)\n",
    " \n",
    "  "
   ]
  }
 ],
 "metadata": {
  "kernelspec": {
   "display_name": "Python 3",
   "language": "python",
   "name": "python3"
  },
  "language_info": {
   "codemirror_mode": {
    "name": "ipython",
    "version": 3
   },
   "file_extension": ".py",
   "mimetype": "text/x-python",
   "name": "python",
   "nbconvert_exporter": "python",
   "pygments_lexer": "ipython3",
   "version": "3.6.3"
  }
 },
 "nbformat": 4,
 "nbformat_minor": 2
}
